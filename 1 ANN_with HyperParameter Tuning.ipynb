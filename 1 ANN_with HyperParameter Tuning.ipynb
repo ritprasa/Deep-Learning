{
 "cells": [
  {
   "cell_type": "code",
   "execution_count": 2,
   "metadata": {},
   "outputs": [],
   "source": [
    "import numpy as np\n",
    "import matplotlib.pyplot as plt\n",
    "import pandas as pd"
   ]
  },
  {
   "cell_type": "code",
   "execution_count": 3,
   "metadata": {},
   "outputs": [],
   "source": [
    "dataset = pd.read_csv('Churn_Modelling.csv')\n",
    "X = dataset.iloc[:, 3:13]\n",
    "y = dataset.iloc[:, 13]"
   ]
  },
  {
   "cell_type": "code",
   "execution_count": 4,
   "metadata": {},
   "outputs": [],
   "source": [
    "#Create dummy variables\n",
    "geography=pd.get_dummies(X[\"Geography\"],drop_first=True)\n",
    "gender=pd.get_dummies(X['Gender'],drop_first=True)"
   ]
  },
  {
   "cell_type": "code",
   "execution_count": 5,
   "metadata": {},
   "outputs": [],
   "source": [
    "## Concatenate the Data Frames\n",
    "\n",
    "X=pd.concat([X,geography,gender],axis=1)\n",
    "\n",
    "## Drop Unnecessary columns\n",
    "X=X.drop(['Geography','Gender'],axis=1)\n"
   ]
  },
  {
   "cell_type": "code",
   "execution_count": 6,
   "metadata": {},
   "outputs": [],
   "source": [
    "# Splitting the dataset into the Training set and Test set\n",
    "from sklearn.model_selection import train_test_split\n",
    "X_train, X_test, y_train, y_test = train_test_split(X, y, test_size = 0.2, random_state = 0)\n",
    "\n",
    "# Feature Scaling\n",
    "from sklearn.preprocessing import StandardScaler\n",
    "sc = StandardScaler()\n",
    "X_train = sc.fit_transform(X_train)\n",
    "X_test = sc.transform(X_test)"
   ]
  },
  {
   "cell_type": "code",
   "execution_count": 7,
   "metadata": {},
   "outputs": [
    {
     "name": "stderr",
     "output_type": "stream",
     "text": [
      "Using TensorFlow backend.\n"
     ]
    }
   ],
   "source": [
    "# Part 2 - Now let's make the ANN!\n",
    "\n",
    "# Importing the Keras libraries and packages\n",
    "import keras\n",
    "from keras.models import Sequential\n",
    "from keras.layers import Dense\n",
    "from keras.layers import LeakyReLU,PReLU,ELU\n",
    "from keras.layers import Dropout"
   ]
  },
  {
   "cell_type": "markdown",
   "metadata": {},
   "source": [
    "Every Keras model is either built using the Sequential class, which represents a linear stack of layers, or the functional Model class, which is more customizeable. We’ll be using the simpler Sequential model, since our network is indeed a linear stack of layers.\n",
    "\n",
    "The Sequential constructor takes an array of Keras Layers. Since we’re just building a standard feedforward network, we only need the Dense layer, which is your regular fully-connected (dense) network layer. A dense layer simply means that each neuron receives input from all the neurons in the previous layer.\n",
    "\n",
    "Let’s throw in 3 Dense layers:\n",
    "\n",
    "The first two layers have 6 nodes each and use the ReLU activation function. The last layer is a Softmax output layer with 1 nodes.\n",
    "\n",
    "The last thing we always need to do is tell Keras what our network’s input will look like. We can do that by specifying an input_shape to the first layer in the Sequential model.Once the input shape is specified, Keras will automatically infer the shapes of inputs for later layers.\n",
    "\n",
    "simply compile the model with our optimizer of choice, our loss function of choice, and the metrics we want to use to judge our model’s performance."
   ]
  },
  {
   "cell_type": "code",
   "execution_count": 28,
   "metadata": {},
   "outputs": [
    {
     "name": "stderr",
     "output_type": "stream",
     "text": [
      "C:\\Users\\riteshp1\\Anaconda3\\envs\\Tensor_Env\\lib\\site-packages\\ipykernel_launcher.py:5: UserWarning: Update your `Dense` call to the Keras 2 API: `Dense(activation=\"relu\", input_dim=11, units=6, kernel_initializer=\"he_uniform\")`\n",
      "  \"\"\"\n",
      "C:\\Users\\riteshp1\\Anaconda3\\envs\\Tensor_Env\\lib\\site-packages\\ipykernel_launcher.py:8: UserWarning: Update your `Dense` call to the Keras 2 API: `Dense(activation=\"relu\", units=6, kernel_initializer=\"he_uniform\")`\n",
      "  \n",
      "C:\\Users\\riteshp1\\Anaconda3\\envs\\Tensor_Env\\lib\\site-packages\\ipykernel_launcher.py:10: UserWarning: Update your `Dense` call to the Keras 2 API: `Dense(activation=\"sigmoid\", units=1, kernel_initializer=\"glorot_uniform\")`\n",
      "  # Remove the CWD from sys.path while we load stuff.\n"
     ]
    }
   ],
   "source": [
    "# Initialising the ANN\n",
    "classifier = Sequential()\n",
    "\n",
    "# Adding the input layer and the first hidden layer\n",
    "classifier.add(Dense(output_dim = 6, init = 'he_uniform',activation='relu',input_dim = 11))\n",
    "\n",
    "# Adding the second hidden layer\n",
    "classifier.add(Dense(output_dim = 6, init = 'he_uniform',activation='relu'))\n",
    "# Adding the output layer\n",
    "classifier.add(Dense(output_dim = 1, init = 'glorot_uniform', activation = 'sigmoid'))\n",
    "\n",
    "# Compiling the ANN\n",
    "classifier.compile(optimizer = 'Adamax', loss = 'binary_crossentropy', metrics = ['accuracy'])"
   ]
  },
  {
   "cell_type": "code",
   "execution_count": 29,
   "metadata": {},
   "outputs": [
    {
     "name": "stderr",
     "output_type": "stream",
     "text": [
      "C:\\Users\\riteshp1\\Anaconda3\\envs\\Tensor_Env\\lib\\site-packages\\ipykernel_launcher.py:1: UserWarning: The `nb_epoch` argument in `fit` has been renamed `epochs`.\n",
      "  \"\"\"Entry point for launching an IPython kernel.\n"
     ]
    },
    {
     "name": "stdout",
     "output_type": "stream",
     "text": [
      "Train on 5359 samples, validate on 2641 samples\n",
      "Epoch 1/100\n",
      "5359/5359 [==============================] - 0s 68us/step - loss: 0.5879 - accuracy: 0.7147 - val_loss: 0.5374 - val_accuracy: 0.7887\n",
      "Epoch 2/100\n",
      "5359/5359 [==============================] - 0s 44us/step - loss: 0.5213 - accuracy: 0.7959 - val_loss: 0.5069 - val_accuracy: 0.7967\n",
      "Epoch 3/100\n",
      "5359/5359 [==============================] - 0s 43us/step - loss: 0.4982 - accuracy: 0.7968 - val_loss: 0.4911 - val_accuracy: 0.7978\n",
      "Epoch 4/100\n",
      "5359/5359 [==============================] - 0s 44us/step - loss: 0.4840 - accuracy: 0.7966 - val_loss: 0.4808 - val_accuracy: 0.7982\n",
      "Epoch 5/100\n",
      "5359/5359 [==============================] - 0s 42us/step - loss: 0.4739 - accuracy: 0.7974 - val_loss: 0.4735 - val_accuracy: 0.7978\n",
      "Epoch 6/100\n",
      "5359/5359 [==============================] - 0s 42us/step - loss: 0.4658 - accuracy: 0.7974 - val_loss: 0.4675 - val_accuracy: 0.7974\n",
      "Epoch 7/100\n",
      "5359/5359 [==============================] - 0s 44us/step - loss: 0.4591 - accuracy: 0.7981 - val_loss: 0.4620 - val_accuracy: 0.7989\n",
      "Epoch 8/100\n",
      "5359/5359 [==============================] - 0s 43us/step - loss: 0.4533 - accuracy: 0.7983 - val_loss: 0.4572 - val_accuracy: 0.7986\n",
      "Epoch 9/100\n",
      "5359/5359 [==============================] - 0s 45us/step - loss: 0.4484 - accuracy: 0.7985 - val_loss: 0.4538 - val_accuracy: 0.7970\n",
      "Epoch 10/100\n",
      "5359/5359 [==============================] - 0s 39us/step - loss: 0.4448 - accuracy: 0.7981 - val_loss: 0.4513 - val_accuracy: 0.7940\n",
      "Epoch 11/100\n",
      "5359/5359 [==============================] - 0s 50us/step - loss: 0.4419 - accuracy: 0.7994 - val_loss: 0.4492 - val_accuracy: 0.7944\n",
      "Epoch 12/100\n",
      "5359/5359 [==============================] - 0s 61us/step - loss: 0.4394 - accuracy: 0.7990 - val_loss: 0.4475 - val_accuracy: 0.7902\n",
      "Epoch 13/100\n",
      "5359/5359 [==============================] - 0s 54us/step - loss: 0.4373 - accuracy: 0.8011 - val_loss: 0.4458 - val_accuracy: 0.7921\n",
      "Epoch 14/100\n",
      "5359/5359 [==============================] - 0s 46us/step - loss: 0.4352 - accuracy: 0.7998 - val_loss: 0.4446 - val_accuracy: 0.7921\n",
      "Epoch 15/100\n",
      "5359/5359 [==============================] - 0s 43us/step - loss: 0.4332 - accuracy: 0.8007 - val_loss: 0.4432 - val_accuracy: 0.7914\n",
      "Epoch 16/100\n",
      "5359/5359 [==============================] - 0s 44us/step - loss: 0.4318 - accuracy: 0.8009 - val_loss: 0.4420 - val_accuracy: 0.7921\n",
      "Epoch 17/100\n",
      "5359/5359 [==============================] - 0s 48us/step - loss: 0.4304 - accuracy: 0.8018 - val_loss: 0.4411 - val_accuracy: 0.7910\n",
      "Epoch 18/100\n",
      "5359/5359 [==============================] - 0s 45us/step - loss: 0.4290 - accuracy: 0.8015 - val_loss: 0.4402 - val_accuracy: 0.7914\n",
      "Epoch 19/100\n",
      "5359/5359 [==============================] - 0s 46us/step - loss: 0.4276 - accuracy: 0.8028 - val_loss: 0.4393 - val_accuracy: 0.7914\n",
      "Epoch 20/100\n",
      "5359/5359 [==============================] - 0s 45us/step - loss: 0.4266 - accuracy: 0.8028 - val_loss: 0.4384 - val_accuracy: 0.7910\n",
      "Epoch 21/100\n",
      "5359/5359 [==============================] - 0s 42us/step - loss: 0.4256 - accuracy: 0.8033 - val_loss: 0.4377 - val_accuracy: 0.7906\n",
      "Epoch 22/100\n",
      "5359/5359 [==============================] - 0s 43us/step - loss: 0.4245 - accuracy: 0.8037 - val_loss: 0.4369 - val_accuracy: 0.7914\n",
      "Epoch 23/100\n",
      "5359/5359 [==============================] - 0s 44us/step - loss: 0.4235 - accuracy: 0.8039 - val_loss: 0.4361 - val_accuracy: 0.7929\n",
      "Epoch 24/100\n",
      "5359/5359 [==============================] - 0s 42us/step - loss: 0.4226 - accuracy: 0.8035 - val_loss: 0.4354 - val_accuracy: 0.7933\n",
      "Epoch 25/100\n",
      "5359/5359 [==============================] - 0s 41us/step - loss: 0.4217 - accuracy: 0.8052 - val_loss: 0.4348 - val_accuracy: 0.7933\n",
      "Epoch 26/100\n",
      "5359/5359 [==============================] - 0s 42us/step - loss: 0.4208 - accuracy: 0.8061 - val_loss: 0.4341 - val_accuracy: 0.7944\n",
      "Epoch 27/100\n",
      "5359/5359 [==============================] - 0s 40us/step - loss: 0.4198 - accuracy: 0.8052 - val_loss: 0.4333 - val_accuracy: 0.7929\n",
      "Epoch 28/100\n",
      "5359/5359 [==============================] - 0s 42us/step - loss: 0.4190 - accuracy: 0.8052 - val_loss: 0.4326 - val_accuracy: 0.7929\n",
      "Epoch 29/100\n",
      "5359/5359 [==============================] - 0s 45us/step - loss: 0.4180 - accuracy: 0.8046 - val_loss: 0.4319 - val_accuracy: 0.7955\n",
      "Epoch 30/100\n",
      "5359/5359 [==============================] - 0s 42us/step - loss: 0.4169 - accuracy: 0.8061 - val_loss: 0.4311 - val_accuracy: 0.7963\n",
      "Epoch 31/100\n",
      "5359/5359 [==============================] - 0s 43us/step - loss: 0.4160 - accuracy: 0.8065 - val_loss: 0.4304 - val_accuracy: 0.7959\n",
      "Epoch 32/100\n",
      "5359/5359 [==============================] - 0s 43us/step - loss: 0.4150 - accuracy: 0.8065 - val_loss: 0.4296 - val_accuracy: 0.7967\n",
      "Epoch 33/100\n",
      "5359/5359 [==============================] - 0s 40us/step - loss: 0.4141 - accuracy: 0.8074 - val_loss: 0.4289 - val_accuracy: 0.7963\n",
      "Epoch 34/100\n",
      "5359/5359 [==============================] - 0s 39us/step - loss: 0.4132 - accuracy: 0.8067 - val_loss: 0.4282 - val_accuracy: 0.7948\n",
      "Epoch 35/100\n",
      "5359/5359 [==============================] - 0s 42us/step - loss: 0.4124 - accuracy: 0.8074 - val_loss: 0.4274 - val_accuracy: 0.7944\n",
      "Epoch 36/100\n",
      "5359/5359 [==============================] - 0s 38us/step - loss: 0.4113 - accuracy: 0.8072 - val_loss: 0.4267 - val_accuracy: 0.7948\n",
      "Epoch 37/100\n",
      "5359/5359 [==============================] - 0s 37us/step - loss: 0.4104 - accuracy: 0.8069 - val_loss: 0.4259 - val_accuracy: 0.7952\n",
      "Epoch 38/100\n",
      "5359/5359 [==============================] - 0s 41us/step - loss: 0.4094 - accuracy: 0.8085 - val_loss: 0.4252 - val_accuracy: 0.7963\n",
      "Epoch 39/100\n",
      "5359/5359 [==============================] - 0s 37us/step - loss: 0.4085 - accuracy: 0.8099 - val_loss: 0.4245 - val_accuracy: 0.7948\n",
      "Epoch 40/100\n",
      "5359/5359 [==============================] - 0s 37us/step - loss: 0.4074 - accuracy: 0.8099 - val_loss: 0.4236 - val_accuracy: 0.7967\n",
      "Epoch 41/100\n",
      "5359/5359 [==============================] - 0s 40us/step - loss: 0.4064 - accuracy: 0.8095 - val_loss: 0.4228 - val_accuracy: 0.7952\n",
      "Epoch 42/100\n",
      "5359/5359 [==============================] - 0s 39us/step - loss: 0.4050 - accuracy: 0.8102 - val_loss: 0.4218 - val_accuracy: 0.7970\n",
      "Epoch 43/100\n",
      "5359/5359 [==============================] - 0s 40us/step - loss: 0.4039 - accuracy: 0.8121 - val_loss: 0.4210 - val_accuracy: 0.7997\n",
      "Epoch 44/100\n",
      "5359/5359 [==============================] - 0s 40us/step - loss: 0.4028 - accuracy: 0.8128 - val_loss: 0.4201 - val_accuracy: 0.8035\n",
      "Epoch 45/100\n",
      "5359/5359 [==============================] - 0s 52us/step - loss: 0.4015 - accuracy: 0.8130 - val_loss: 0.4188 - val_accuracy: 0.8054\n",
      "Epoch 46/100\n",
      "5359/5359 [==============================] - 0s 48us/step - loss: 0.4001 - accuracy: 0.8162 - val_loss: 0.4178 - val_accuracy: 0.8073\n",
      "Epoch 47/100\n",
      "5359/5359 [==============================] - 0s 44us/step - loss: 0.3986 - accuracy: 0.8173 - val_loss: 0.4166 - val_accuracy: 0.8103\n",
      "Epoch 48/100\n",
      "5359/5359 [==============================] - 0s 52us/step - loss: 0.3970 - accuracy: 0.8184 - val_loss: 0.4152 - val_accuracy: 0.8129\n",
      "Epoch 49/100\n",
      "5359/5359 [==============================] - 0s 43us/step - loss: 0.3954 - accuracy: 0.8212 - val_loss: 0.4136 - val_accuracy: 0.8152\n",
      "Epoch 50/100\n",
      "5359/5359 [==============================] - 0s 43us/step - loss: 0.3938 - accuracy: 0.8235 - val_loss: 0.4119 - val_accuracy: 0.8152\n",
      "Epoch 51/100\n",
      "5359/5359 [==============================] - 0s 42us/step - loss: 0.3921 - accuracy: 0.8238 - val_loss: 0.4104 - val_accuracy: 0.8167\n",
      "Epoch 52/100\n",
      "5359/5359 [==============================] - 0s 41us/step - loss: 0.3905 - accuracy: 0.8250 - val_loss: 0.4085 - val_accuracy: 0.8183\n",
      "Epoch 53/100\n",
      "5359/5359 [==============================] - 0s 43us/step - loss: 0.3886 - accuracy: 0.8268 - val_loss: 0.4064 - val_accuracy: 0.8186\n",
      "Epoch 54/100\n",
      "5359/5359 [==============================] - 0s 42us/step - loss: 0.3868 - accuracy: 0.8283 - val_loss: 0.4047 - val_accuracy: 0.8194\n",
      "Epoch 55/100\n",
      "5359/5359 [==============================] - 0s 43us/step - loss: 0.3850 - accuracy: 0.8300 - val_loss: 0.4028 - val_accuracy: 0.8209\n",
      "Epoch 56/100\n"
     ]
    },
    {
     "name": "stdout",
     "output_type": "stream",
     "text": [
      "5359/5359 [==============================] - 0s 42us/step - loss: 0.3834 - accuracy: 0.8306 - val_loss: 0.4007 - val_accuracy: 0.8213\n",
      "Epoch 57/100\n",
      "5359/5359 [==============================] - 0s 40us/step - loss: 0.3815 - accuracy: 0.8315 - val_loss: 0.3987 - val_accuracy: 0.8220\n",
      "Epoch 58/100\n",
      "5359/5359 [==============================] - 0s 54us/step - loss: 0.3797 - accuracy: 0.8322 - val_loss: 0.3967 - val_accuracy: 0.8217\n",
      "Epoch 59/100\n",
      "5359/5359 [==============================] - 0s 59us/step - loss: 0.3779 - accuracy: 0.8345 - val_loss: 0.3952 - val_accuracy: 0.8247\n",
      "Epoch 60/100\n",
      "5359/5359 [==============================] - 0s 54us/step - loss: 0.3764 - accuracy: 0.8375 - val_loss: 0.3933 - val_accuracy: 0.8247\n",
      "Epoch 61/100\n",
      "5359/5359 [==============================] - 0s 44us/step - loss: 0.3746 - accuracy: 0.8384 - val_loss: 0.3913 - val_accuracy: 0.8270\n",
      "Epoch 62/100\n",
      "5359/5359 [==============================] - 0s 39us/step - loss: 0.3728 - accuracy: 0.8405 - val_loss: 0.3894 - val_accuracy: 0.8277\n",
      "Epoch 63/100\n",
      "5359/5359 [==============================] - 0s 38us/step - loss: 0.3709 - accuracy: 0.8418 - val_loss: 0.3876 - val_accuracy: 0.8307\n",
      "Epoch 64/100\n",
      "5359/5359 [==============================] - 0s 37us/step - loss: 0.3692 - accuracy: 0.8431 - val_loss: 0.3857 - val_accuracy: 0.8319\n",
      "Epoch 65/100\n",
      "5359/5359 [==============================] - 0s 42us/step - loss: 0.3673 - accuracy: 0.8436 - val_loss: 0.3838 - val_accuracy: 0.8342\n",
      "Epoch 66/100\n",
      "5359/5359 [==============================] - 0s 43us/step - loss: 0.3657 - accuracy: 0.8446 - val_loss: 0.3820 - val_accuracy: 0.8353\n",
      "Epoch 67/100\n",
      "5359/5359 [==============================] - 0s 40us/step - loss: 0.3638 - accuracy: 0.8457 - val_loss: 0.3804 - val_accuracy: 0.8368\n",
      "Epoch 68/100\n",
      "5359/5359 [==============================] - 0s 43us/step - loss: 0.3622 - accuracy: 0.8477 - val_loss: 0.3790 - val_accuracy: 0.8398\n",
      "Epoch 69/100\n",
      "5359/5359 [==============================] - 0s 40us/step - loss: 0.3607 - accuracy: 0.8481 - val_loss: 0.3776 - val_accuracy: 0.8417\n",
      "Epoch 70/100\n",
      "5359/5359 [==============================] - 0s 44us/step - loss: 0.3593 - accuracy: 0.8509 - val_loss: 0.3764 - val_accuracy: 0.8436\n",
      "Epoch 71/100\n",
      "5359/5359 [==============================] - 0s 43us/step - loss: 0.3582 - accuracy: 0.8517 - val_loss: 0.3755 - val_accuracy: 0.8459\n",
      "Epoch 72/100\n",
      "5359/5359 [==============================] - 0s 42us/step - loss: 0.3567 - accuracy: 0.8526 - val_loss: 0.3743 - val_accuracy: 0.8459\n",
      "Epoch 73/100\n",
      "5359/5359 [==============================] - 0s 43us/step - loss: 0.3555 - accuracy: 0.8531 - val_loss: 0.3731 - val_accuracy: 0.8455\n",
      "Epoch 74/100\n",
      "5359/5359 [==============================] - 0s 42us/step - loss: 0.3542 - accuracy: 0.8530 - val_loss: 0.3717 - val_accuracy: 0.8444\n",
      "Epoch 75/100\n",
      "5359/5359 [==============================] - 0s 43us/step - loss: 0.3527 - accuracy: 0.8550 - val_loss: 0.3705 - val_accuracy: 0.8459\n",
      "Epoch 76/100\n",
      "5359/5359 [==============================] - 0s 42us/step - loss: 0.3512 - accuracy: 0.8556 - val_loss: 0.3693 - val_accuracy: 0.8470\n",
      "Epoch 77/100\n",
      "5359/5359 [==============================] - 0s 43us/step - loss: 0.3499 - accuracy: 0.8556 - val_loss: 0.3686 - val_accuracy: 0.8474\n",
      "Epoch 78/100\n",
      "5359/5359 [==============================] - 0s 48us/step - loss: 0.3486 - accuracy: 0.8589 - val_loss: 0.3678 - val_accuracy: 0.8482\n",
      "Epoch 79/100\n",
      "5359/5359 [==============================] - 0s 44us/step - loss: 0.3476 - accuracy: 0.8582 - val_loss: 0.3672 - val_accuracy: 0.8501\n",
      "Epoch 80/100\n",
      "5359/5359 [==============================] - 0s 40us/step - loss: 0.3467 - accuracy: 0.8576 - val_loss: 0.3668 - val_accuracy: 0.8482\n",
      "Epoch 81/100\n",
      "5359/5359 [==============================] - 0s 43us/step - loss: 0.3459 - accuracy: 0.8587 - val_loss: 0.3664 - val_accuracy: 0.8489\n",
      "Epoch 82/100\n",
      "5359/5359 [==============================] - 0s 43us/step - loss: 0.3451 - accuracy: 0.8589 - val_loss: 0.3659 - val_accuracy: 0.8504\n",
      "Epoch 83/100\n",
      "5359/5359 [==============================] - 0s 43us/step - loss: 0.3442 - accuracy: 0.8597 - val_loss: 0.3657 - val_accuracy: 0.8516\n",
      "Epoch 84/100\n",
      "5359/5359 [==============================] - 0s 47us/step - loss: 0.3438 - accuracy: 0.8604 - val_loss: 0.3657 - val_accuracy: 0.8512\n",
      "Epoch 85/100\n",
      "5359/5359 [==============================] - 0s 46us/step - loss: 0.3431 - accuracy: 0.8597 - val_loss: 0.3655 - val_accuracy: 0.8512\n",
      "Epoch 86/100\n",
      "5359/5359 [==============================] - 0s 45us/step - loss: 0.3428 - accuracy: 0.8599 - val_loss: 0.3654 - val_accuracy: 0.8516\n",
      "Epoch 87/100\n",
      "5359/5359 [==============================] - 0s 47us/step - loss: 0.3421 - accuracy: 0.8597 - val_loss: 0.3649 - val_accuracy: 0.8523\n",
      "Epoch 88/100\n",
      "5359/5359 [==============================] - 0s 39us/step - loss: 0.3415 - accuracy: 0.8604 - val_loss: 0.3646 - val_accuracy: 0.8512\n",
      "Epoch 89/100\n",
      "5359/5359 [==============================] - 0s 43us/step - loss: 0.3410 - accuracy: 0.8595 - val_loss: 0.3645 - val_accuracy: 0.8516\n",
      "Epoch 90/100\n",
      "5359/5359 [==============================] - 0s 37us/step - loss: 0.3406 - accuracy: 0.8610 - val_loss: 0.3643 - val_accuracy: 0.8523\n",
      "Epoch 91/100\n",
      "5359/5359 [==============================] - 0s 43us/step - loss: 0.3401 - accuracy: 0.8606 - val_loss: 0.3639 - val_accuracy: 0.8523\n",
      "Epoch 92/100\n",
      "5359/5359 [==============================] - 0s 43us/step - loss: 0.3399 - accuracy: 0.8610 - val_loss: 0.3638 - val_accuracy: 0.8527\n",
      "Epoch 93/100\n",
      "5359/5359 [==============================] - 0s 42us/step - loss: 0.3394 - accuracy: 0.8615 - val_loss: 0.3632 - val_accuracy: 0.8535\n",
      "Epoch 94/100\n",
      "5359/5359 [==============================] - 0s 49us/step - loss: 0.3389 - accuracy: 0.8619 - val_loss: 0.3630 - val_accuracy: 0.8538\n",
      "Epoch 95/100\n",
      "5359/5359 [==============================] - 0s 37us/step - loss: 0.3387 - accuracy: 0.8614 - val_loss: 0.3628 - val_accuracy: 0.8531\n",
      "Epoch 96/100\n",
      "5359/5359 [==============================] - 0s 40us/step - loss: 0.3382 - accuracy: 0.8614 - val_loss: 0.3629 - val_accuracy: 0.8538\n",
      "Epoch 97/100\n",
      "5359/5359 [==============================] - 0s 42us/step - loss: 0.3379 - accuracy: 0.8621 - val_loss: 0.3628 - val_accuracy: 0.8546\n",
      "Epoch 98/100\n",
      "5359/5359 [==============================] - 0s 41us/step - loss: 0.3375 - accuracy: 0.8612 - val_loss: 0.3630 - val_accuracy: 0.8546\n",
      "Epoch 99/100\n",
      "5359/5359 [==============================] - 0s 42us/step - loss: 0.3372 - accuracy: 0.8617 - val_loss: 0.3625 - val_accuracy: 0.8535\n",
      "Epoch 100/100\n",
      "5359/5359 [==============================] - 0s 38us/step - loss: 0.3370 - accuracy: 0.8617 - val_loss: 0.3624 - val_accuracy: 0.8542\n"
     ]
    }
   ],
   "source": [
    "model_history=classifier.fit(X_train, y_train,validation_split=0.33, batch_size = 50, nb_epoch = 100)\n"
   ]
  },
  {
   "cell_type": "code",
   "execution_count": 30,
   "metadata": {},
   "outputs": [
    {
     "name": "stdout",
     "output_type": "stream",
     "text": [
      "dict_keys(['val_loss', 'val_accuracy', 'loss', 'accuracy'])\n"
     ]
    },
    {
     "data": {
      "image/png": "[encoded data removed]",
      "text/plain": [
       "<Figure size 432x288 with 1 Axes>"
      ]
     },
     "metadata": {
      "needs_background": "light"
     },
     "output_type": "display_data"
    }
   ],
   "source": [
    "# list all data in history\n",
    "\n",
    "print(model_history.history.keys())\n",
    "# summarize history for accuracy\n",
    "plt.plot(model_history.history['accuracy'])\n",
    "plt.plot(model_history.history['val_accuracy'])\n",
    "plt.title('model accuracy')\n",
    "plt.ylabel('accuracy')\n",
    "plt.xlabel('epoch')\n",
    "plt.legend(['train', 'test'], loc='upper left')\n",
    "plt.show()\n"
   ]
  },
  {
   "cell_type": "code",
   "execution_count": 31,
   "metadata": {},
   "outputs": [
    {
     "data": {
      "image/png": "[encoded data removed]",
      "text/plain": [
       "<Figure size 432x288 with 1 Axes>"
      ]
     },
     "metadata": {
      "needs_background": "light"
     },
     "output_type": "display_data"
    }
   ],
   "source": [
    "# summarize history for loss\n",
    "plt.plot(model_history.history['loss'])\n",
    "plt.plot(model_history.history['val_loss'])\n",
    "plt.title('model loss')\n",
    "plt.ylabel('loss')\n",
    "plt.xlabel('epoch')\n",
    "plt.legend(['train', 'test'], loc='upper left')\n",
    "plt.show()\n"
   ]
  },
  {
   "cell_type": "code",
   "execution_count": 32,
   "metadata": {},
   "outputs": [],
   "source": [
    "# Part 3 - Making the predictions and evaluating the model\n",
    "\n",
    "# Predicting the Test set results\n",
    "y_pred = classifier.predict(X_test)\n",
    "y_pred = (y_pred > 0.5)"
   ]
  },
  {
   "cell_type": "code",
   "execution_count": 33,
   "metadata": {},
   "outputs": [
    {
     "name": "stdout",
     "output_type": "stream",
     "text": [
      "[[1518   77]\n",
      " [ 205  200]]\n"
     ]
    }
   ],
   "source": [
    "# Making the Confusion Matrix\n",
    "from sklearn.metrics import confusion_matrix\n",
    "cm = confusion_matrix(y_test, y_pred)\n",
    "print(cm)"
   ]
  },
  {
   "cell_type": "code",
   "execution_count": 35,
   "metadata": {},
   "outputs": [
    {
     "name": "stdout",
     "output_type": "stream",
     "text": [
      "0.859\n"
     ]
    }
   ],
   "source": [
    "# Calculate the Accuracy\n",
    "from sklearn.metrics import accuracy_score\n",
    "score=accuracy_score(y_pred,y_test)\n",
    "print(score)"
   ]
  },
  {
   "cell_type": "markdown",
   "metadata": {},
   "source": [
    "# HyperParameter Tuning"
   ]
  },
  {
   "cell_type": "code",
   "execution_count": 64,
   "metadata": {},
   "outputs": [],
   "source": [
    "from keras.wrappers.scikit_learn import KerasClassifier\n",
    "from sklearn.model_selection import GridSearchCV\n",
    "from keras.models import Sequential\n",
    "from keras.layers import Dense, Activation, Embedding, Flatten, LeakyReLU, BatchNormalization, Dropout\n",
    "from keras.activations import relu, sigmoid\n",
    "\n",
    "def create_model(layers, activation,optimizer):\n",
    "    model = Sequential()\n",
    "    for i, nodes in enumerate(layers):\n",
    "        if i==0:\n",
    "            model.add(Dense(nodes,input_dim=X_train.shape[1]))\n",
    "            model.add(Activation(activation))\n",
    "            model.add(Dropout(0.1))\n",
    "        else:\n",
    "            model.add(Dense(nodes))\n",
    "            model.add(Activation(activation))\n",
    "            model.add(Dropout(0.1))\n",
    "            \n",
    "    model.add(Dense(units = 1, kernel_initializer= 'glorot_uniform', activation = 'sigmoid')) # Note: no activation beyond this point\n",
    "    \n",
    "    model.compile(optimizer='adam', loss='binary_crossentropy',metrics=['accuracy'])\n",
    "    return model\n",
    "            "
   ]
  },
  {
   "cell_type": "code",
   "execution_count": 58,
   "metadata": {},
   "outputs": [],
   "source": [
    "model = KerasClassifier(build_fn=create_model, verbose=0)"
   ]
  },
  {
   "cell_type": "code",
   "execution_count": 59,
   "metadata": {},
   "outputs": [
    {
     "data": {
      "text/plain": [
       "[0.8582499980926513,\n",
       " {'activation': 'relu',\n",
       "  'batch_size': 50,\n",
       "  'epochs': 30,\n",
       "  'layers': (45, 30, 15),\n",
       "  'optimizer': 'rmsprop'}]"
      ]
     },
     "execution_count": 59,
     "metadata": {},
     "output_type": "execute_result"
    }
   ],
   "source": [
    "layers = [(45, 30, 15),(10,6),(8,8)]\n",
    "activations = ['sigmoid', 'relu']\n",
    "optimzer= ['adam', 'rmsprop']\n",
    "param_grid = dict(layers=layers, activation=activations,optimizer=optimzer, batch_size = [50,100,128, 256], epochs=[30,75,100,120])\n",
    "grid = GridSearchCV(estimator=model, param_grid=param_grid,cv=10)\n",
    "\n",
    "grid_result = grid.fit(X_train, y_train)\n",
    "\n",
    "[grid_result.best_score_,grid_result.best_params_]"
   ]
  },
  {
   "cell_type": "code",
   "execution_count": 65,
   "metadata": {},
   "outputs": [
    {
     "name": "stderr",
     "output_type": "stream",
     "text": [
      "C:\\Users\\riteshp1\\Anaconda3\\envs\\Tensor_Env\\lib\\site-packages\\ipykernel_launcher.py:4: UserWarning: Update your `Dense` call to the Keras 2 API: `Dense(activation=\"relu\", input_dim=11, units=45, kernel_initializer=\"he_uniform\")`\n",
      "  after removing the cwd from sys.path.\n",
      "C:\\Users\\riteshp1\\Anaconda3\\envs\\Tensor_Env\\lib\\site-packages\\ipykernel_launcher.py:7: UserWarning: Update your `Dense` call to the Keras 2 API: `Dense(activation=\"relu\", units=30, kernel_initializer=\"he_uniform\")`\n",
      "  import sys\n",
      "C:\\Users\\riteshp1\\Anaconda3\\envs\\Tensor_Env\\lib\\site-packages\\ipykernel_launcher.py:9: UserWarning: Update your `Dense` call to the Keras 2 API: `Dense(activation=\"relu\", units=15, kernel_initializer=\"he_uniform\")`\n",
      "  if __name__ == '__main__':\n",
      "C:\\Users\\riteshp1\\Anaconda3\\envs\\Tensor_Env\\lib\\site-packages\\ipykernel_launcher.py:11: UserWarning: Update your `Dense` call to the Keras 2 API: `Dense(activation=\"sigmoid\", units=1, kernel_initializer=\"glorot_uniform\")`\n",
      "  # This is added back by InteractiveShellApp.init_path()\n",
      "C:\\Users\\riteshp1\\Anaconda3\\envs\\Tensor_Env\\lib\\site-packages\\ipykernel_launcher.py:16: UserWarning: The `nb_epoch` argument in `fit` has been renamed `epochs`.\n",
      "  app.launch_new_instance()\n"
     ]
    },
    {
     "name": "stdout",
     "output_type": "stream",
     "text": [
      "Train on 5359 samples, validate on 2641 samples\n",
      "Epoch 1/30\n",
      "5359/5359 [==============================] - 0s 44us/step - loss: 0.4869 - accuracy: 0.7983 - val_loss: 0.4461 - val_accuracy: 0.8035\n",
      "Epoch 2/30\n",
      "5359/5359 [==============================] - 0s 27us/step - loss: 0.4317 - accuracy: 0.8100 - val_loss: 0.4267 - val_accuracy: 0.8148\n",
      "Epoch 3/30\n",
      "5359/5359 [==============================] - 0s 25us/step - loss: 0.4096 - accuracy: 0.8300 - val_loss: 0.4180 - val_accuracy: 0.8232\n",
      "Epoch 4/30\n",
      "5359/5359 [==============================] - 0s 29us/step - loss: 0.3930 - accuracy: 0.8380 - val_loss: 0.4057 - val_accuracy: 0.8277\n",
      "Epoch 5/30\n",
      "5359/5359 [==============================] - 0s 30us/step - loss: 0.3781 - accuracy: 0.8453 - val_loss: 0.3981 - val_accuracy: 0.8342\n",
      "Epoch 6/30\n",
      "5359/5359 [==============================] - 0s 23us/step - loss: 0.3628 - accuracy: 0.8509 - val_loss: 0.3898 - val_accuracy: 0.8326\n",
      "Epoch 7/30\n",
      "5359/5359 [==============================] - 0s 22us/step - loss: 0.3504 - accuracy: 0.8576 - val_loss: 0.3798 - val_accuracy: 0.8429\n",
      "Epoch 8/30\n",
      "5359/5359 [==============================] - 0s 23us/step - loss: 0.3408 - accuracy: 0.8638 - val_loss: 0.3809 - val_accuracy: 0.8395\n",
      "Epoch 9/30\n",
      "5359/5359 [==============================] - 0s 23us/step - loss: 0.3334 - accuracy: 0.8623 - val_loss: 0.3761 - val_accuracy: 0.8429\n",
      "Epoch 10/30\n",
      "5359/5359 [==============================] - 0s 24us/step - loss: 0.3275 - accuracy: 0.8647 - val_loss: 0.3766 - val_accuracy: 0.8451\n",
      "Epoch 11/30\n",
      "5359/5359 [==============================] - 0s 26us/step - loss: 0.3233 - accuracy: 0.8673 - val_loss: 0.3781 - val_accuracy: 0.8432\n",
      "Epoch 12/30\n",
      "5359/5359 [==============================] - 0s 23us/step - loss: 0.3204 - accuracy: 0.8670 - val_loss: 0.3785 - val_accuracy: 0.8440\n",
      "Epoch 13/30\n",
      "5359/5359 [==============================] - 0s 28us/step - loss: 0.3172 - accuracy: 0.8677 - val_loss: 0.3833 - val_accuracy: 0.8451\n",
      "Epoch 14/30\n",
      "5359/5359 [==============================] - 0s 29us/step - loss: 0.3134 - accuracy: 0.8696 - val_loss: 0.3796 - val_accuracy: 0.8478\n",
      "Epoch 15/30\n",
      "5359/5359 [==============================] - 0s 28us/step - loss: 0.3102 - accuracy: 0.8696 - val_loss: 0.3793 - val_accuracy: 0.8474\n",
      "Epoch 16/30\n",
      "5359/5359 [==============================] - 0s 22us/step - loss: 0.3080 - accuracy: 0.8698 - val_loss: 0.3774 - val_accuracy: 0.8444\n",
      "Epoch 17/30\n",
      "5359/5359 [==============================] - 0s 23us/step - loss: 0.3047 - accuracy: 0.8739 - val_loss: 0.3790 - val_accuracy: 0.8463\n",
      "Epoch 18/30\n",
      "5359/5359 [==============================] - 0s 22us/step - loss: 0.3030 - accuracy: 0.8737 - val_loss: 0.3782 - val_accuracy: 0.8463\n",
      "Epoch 19/30\n",
      "5359/5359 [==============================] - 0s 21us/step - loss: 0.3005 - accuracy: 0.8740 - val_loss: 0.3814 - val_accuracy: 0.8485\n",
      "Epoch 20/30\n",
      "5359/5359 [==============================] - 0s 22us/step - loss: 0.2984 - accuracy: 0.8748 - val_loss: 0.3812 - val_accuracy: 0.8466\n",
      "Epoch 21/30\n",
      "5359/5359 [==============================] - 0s 24us/step - loss: 0.2963 - accuracy: 0.8767 - val_loss: 0.3810 - val_accuracy: 0.8410\n",
      "Epoch 22/30\n",
      "5359/5359 [==============================] - 0s 29us/step - loss: 0.2941 - accuracy: 0.8746 - val_loss: 0.3835 - val_accuracy: 0.8432\n",
      "Epoch 23/30\n",
      "5359/5359 [==============================] - 0s 28us/step - loss: 0.2914 - accuracy: 0.8791 - val_loss: 0.3848 - val_accuracy: 0.8451\n",
      "Epoch 24/30\n",
      "5359/5359 [==============================] - 0s 25us/step - loss: 0.2897 - accuracy: 0.8798 - val_loss: 0.3851 - val_accuracy: 0.8436\n",
      "Epoch 25/30\n",
      "5359/5359 [==============================] - 0s 23us/step - loss: 0.2877 - accuracy: 0.8819 - val_loss: 0.3901 - val_accuracy: 0.8417\n",
      "Epoch 26/30\n",
      "5359/5359 [==============================] - 0s 23us/step - loss: 0.2860 - accuracy: 0.8796 - val_loss: 0.3917 - val_accuracy: 0.8383\n",
      "Epoch 27/30\n",
      "5359/5359 [==============================] - 0s 23us/step - loss: 0.2839 - accuracy: 0.8806 - val_loss: 0.3958 - val_accuracy: 0.8334\n",
      "Epoch 28/30\n",
      "5359/5359 [==============================] - 0s 23us/step - loss: 0.2823 - accuracy: 0.8817 - val_loss: 0.3889 - val_accuracy: 0.8417\n",
      "Epoch 29/30\n",
      "5359/5359 [==============================] - 0s 25us/step - loss: 0.2804 - accuracy: 0.8798 - val_loss: 0.3937 - val_accuracy: 0.8383\n",
      "Epoch 30/30\n",
      "5359/5359 [==============================] - 0s 26us/step - loss: 0.2792 - accuracy: 0.8839 - val_loss: 0.3947 - val_accuracy: 0.8413\n"
     ]
    }
   ],
   "source": [
    "ANN_classifier = Sequential()\n",
    "\n",
    "# Adding the input layer and the first hidden layer\n",
    "ANN_classifier.add(Dense(output_dim = 45, init = 'he_uniform',activation='relu',input_dim = 11))\n",
    "\n",
    "# Adding the second hidden layer\n",
    "ANN_classifier.add(Dense(output_dim = 30, init = 'he_uniform',activation='relu'))\n",
    "# Adding the output layer\n",
    "ANN_classifier.add(Dense(output_dim = 15, init = 'he_uniform', activation = 'relu'))\n",
    "\n",
    "ANN_classifier.add(Dense(output_dim = 1, init = 'glorot_uniform', activation = 'sigmoid'))\n",
    "# Compiling the ANN\n",
    "ANN_classifier.compile(optimizer = 'rmsprop', loss = 'binary_crossentropy', metrics = ['accuracy'])\n",
    "\n",
    "\n",
    "model_ANN=ANN_classifier.fit(X_train, y_train,validation_split=0.33, batch_size = 50, nb_epoch = 30)"
   ]
  },
  {
   "cell_type": "markdown",
   "metadata": {},
   "source": [
    "1) val_loss starts increasing, val_acc starts decreasing. This means model is cramming values not learning\n",
    "\n",
    "2) val_loss starts increasing, val_acc also increases.This could be case of overfitting or diverse probability values in cases where softmax is being used in output layer\n",
    "\n",
    "3) val_loss starts decreasing, val_acc starts increasing. This is also fine as that means model built is learning and working fine."
   ]
  },
  {
   "cell_type": "code",
   "execution_count": null,
   "metadata": {},
   "outputs": [],
   "source": []
  },
  {
   "cell_type": "code",
   "execution_count": null,
   "metadata": {},
   "outputs": [],
   "source": []
  },
  {
   "cell_type": "code",
   "execution_count": null,
   "metadata": {},
   "outputs": [],
   "source": []
  }
 ],
 "metadata": {
  "kernelspec": {
   "display_name": "Python 3",
   "language": "python",
   "name": "python3"
  }
 },
 "nbformat": 4,
 "nbformat_minor": 4
}
